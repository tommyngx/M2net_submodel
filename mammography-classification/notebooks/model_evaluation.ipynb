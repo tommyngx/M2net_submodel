{
 "cells": [
  {
   "cell_type": "markdown",
   "metadata": {},
   "source": [
    "# Model Evaluation\n",
    "\n",
    "This notebook is used for evaluating the trained models for mammography classification. It includes performance metrics and visualizations."
   ]
  },
  {
   "cell_type": "code",
   "execution_count": null,
   "metadata": {
    "collapsed": false
   },
   "outputs": [],
   "source": [
    "import pandas as pd\n",
    "import numpy as np\n",
    "import matplotlib.pyplot as plt\n",
    "import seaborn as sns\n",
    "from src.utils.metrics import calculate_metrics\n",
    "from src.utils.visualization import plot_confusion_matrix\n",
    "from src.models.birads_classifier import BiradsClassifier\n",
    "from src.models.lesion_classifier import LesionClassifier\n",
    "\n",
    "# Load the trained models\n",
    "birads_model = BiradsClassifier.load('path_to_birads_model')\n",
    "lesion_model = LesionClassifier.load('path_to_lesion_model')\n",
    "\n",
    "# Load the test dataset\n",
    "test_data = pd.read_csv('path_to_test_data')\n",
    "X_test = test_data['images']\n",
    "y_test_birads = test_data['birads_labels']\n",
    "y_test_lesion = test_data['lesion_labels']\n",
    "\n",
    "# Make predictions\n",
    "y_pred_birads = birads_model.predict(X_test)\n",
    "y_pred_lesion = lesion_model.predict(X_test)\n",
    "\n",
    "# Calculate metrics\n",
    "birads_metrics = calculate_metrics(y_test_birads, y_pred_birads)\n",
    "lesion_metrics = calculate_metrics(y_test_lesion, y_pred_lesion)\n",
    "\n",
    "# Display metrics\n",
    "print('Birads Classification Metrics:', birads_metrics)\n",
    "print('Lesion Classification Metrics:', lesion_metrics)\n",
    "\n",
    "# Plot confusion matrices\n",
    "plt.figure(figsize=(12, 5))\n",
    "plt.subplot(1, 2, 1)\n",
    "plot_confusion_matrix(y_test_birads, y_pred_birads)\n",
    "plt.title('Birads Confusion Matrix')\n",
    "\n",
    "plt.subplot(1, 2, 2)\n",
    "plot_confusion_matrix(y_test_lesion, y_pred_lesion)\n",
    "plt.title('Lesion Confusion Matrix')\n",
    "plt.show()"
   ]
  }
 ],
 "metadata": {
  "kernelspec": {
   "display_name": "Python 3",
   "language": "python",
   "name": "python3"
  },
  "language_info": {
   "codemirror_mode": {
    "name": "ipython",
    "version": 3
   },
   "file_extension": ".py",
   "mimetype": "text/x-python",
   "name": "python",
   "nbconvert_exporter": "python",
   "pygments_lexer": "ipython3",
   "version": "3.8.5"
  }
 },
 "nbformat": 4,
 "nbformat_minor": 4
}